{
  "nbformat": 4,
  "nbformat_minor": 0,
  "metadata": {
    "colab": {
      "provenance": []
    },
    "kernelspec": {
      "name": "python3",
      "display_name": "Python 3"
    },
    "language_info": {
      "name": "python"
    }
  },
  "cells": [
    {
      "cell_type": "code",
      "execution_count": null,
      "metadata": {
        "colab": {
          "base_uri": "https://localhost:8080/"
        },
        "id": "VDJaO4G4flDK",
        "outputId": "1be48b21-c1fa-4ac3-f939-9d955ac774ca"
      },
      "outputs": [
        {
          "output_type": "stream",
          "name": "stdout",
          "text": [
            "Mounted at /content/drive\n"
          ]
        }
      ],
      "source": [
        "\n",
        "import os, sys\n",
        "from google.colab import drive\n",
        "drive.mount('/content/drive')\n",
        "os.chdir(\"/content/drive/My Drive/Colab Notebooks/NLP\")\n",
        "sys.path.append(\"/content/drive/My Drive/Colab Notebooks/NLP\")"
      ]
    },
    {
      "cell_type": "code",
      "source": [
        "import nltk\n",
        "nltk.download('punkt')\n",
        "nltk.download('maxent_ne_chunker')\n",
        "nltk.download('words')\n",
        "nltk.download('averaged_perceptron_tagger')\n"
      ],
      "metadata": {
        "colab": {
          "base_uri": "https://localhost:8080/"
        },
        "id": "SsCi_TUvk_Tf",
        "outputId": "b0c9df90-a1d0-47c6-fa7e-76c288b8847d"
      },
      "execution_count": null,
      "outputs": [
        {
          "output_type": "stream",
          "name": "stderr",
          "text": [
            "[nltk_data] Downloading package punkt to /root/nltk_data...\n",
            "[nltk_data]   Unzipping tokenizers/punkt.zip.\n",
            "[nltk_data] Downloading package maxent_ne_chunker to\n",
            "[nltk_data]     /root/nltk_data...\n",
            "[nltk_data]   Unzipping chunkers/maxent_ne_chunker.zip.\n",
            "[nltk_data] Downloading package words to /root/nltk_data...\n",
            "[nltk_data]   Unzipping corpora/words.zip.\n",
            "[nltk_data] Downloading package averaged_perceptron_tagger to\n",
            "[nltk_data]     /root/nltk_data...\n",
            "[nltk_data]   Unzipping taggers/averaged_perceptron_tagger.zip.\n"
          ]
        },
        {
          "output_type": "execute_result",
          "data": {
            "text/plain": [
              "True"
            ]
          },
          "metadata": {},
          "execution_count": 2
        }
      ]
    },
    {
      "cell_type": "code",
      "source": [
        "import requests\n",
        "\n",
        "def fetch_news_article(api_key):\n",
        "    url = f\"https://newsapi.org/v2/top-headlines?country=us&apiKey={api_key}\"\n",
        "    response = requests.get(url)\n",
        "    articles = response.json().get('articles', [])\n",
        "    if articles:\n",
        "        title = articles[0].get('title', '')\n",
        "        description = articles[0].get('description', '')\n",
        "        return (title if title else \"\") + \" \" + (description if description else \"\")\n",
        "    else:\n",
        "        return None\n",
        "\n",
        "api_key = 'd0d145ba3dbd4f608f02d3f3161bc49a'\n",
        "article = fetch_news_article(api_key)\n",
        "print(article)\n"
      ],
      "metadata": {
        "colab": {
          "base_uri": "https://localhost:8080/"
        },
        "id": "Jc0BJvEClFor",
        "outputId": "d070fe73-600c-47f5-937e-628a0b0f257e"
      },
      "execution_count": null,
      "outputs": [
        {
          "output_type": "stream",
          "name": "stdout",
          "text": [
            "Trump congratulates Putin over deal that brought Evan Gershkovich home - The Washington Post \n"
          ]
        }
      ]
    },
    {
      "cell_type": "code",
      "source": [
        "\n",
        "import nltk\n",
        "from nltk import word_tokenize, pos_tag, ne_chunk\n",
        "\n",
        "def nltk_named_entity_recognition(text):\n",
        "    words = word_tokenize(text)\n",
        "    pos_tags = pos_tag(words)\n",
        "    tree = ne_chunk(pos_tags)\n",
        "    named_entities = []\n",
        "\n",
        "    for subtree in tree:\n",
        "        if isinstance(subtree, nltk.Tree):\n",
        "            entity_name = \" \".join([leaf[0] for leaf in subtree.leaves()])\n",
        "            entity_type = subtree.label()\n",
        "            named_entities.append((entity_name, entity_type))\n",
        "\n",
        "    return named_entities\n",
        "\n",
        "nltk_entities = nltk_named_entity_recognition(article)\n",
        "print(nltk_entities)\n"
      ],
      "metadata": {
        "colab": {
          "base_uri": "https://localhost:8080/"
        },
        "id": "8E05AA3QlKeW",
        "outputId": "2d6e1afa-e87f-4b0e-ded4-de528c733d86"
      },
      "execution_count": null,
      "outputs": [
        {
          "output_type": "stream",
          "name": "stdout",
          "text": [
            "[('Trump', 'GPE'), ('Putin', 'PERSON'), ('Evan Gershkovich', 'PERSON'), ('Washington Post', 'ORGANIZATION')]\n"
          ]
        }
      ]
    },
    {
      "cell_type": "code",
      "source": [
        "\n",
        "import spacy\n",
        "\n",
        "def spacy_named_entity_recognition(text):\n",
        "    nlp = spacy.load('en_core_web_sm')\n",
        "    doc = nlp(text)\n",
        "    named_entities = [(ent.text, ent.label_) for ent in doc.ents]\n",
        "    return named_entities\n",
        "\n",
        "spacy_entities = spacy_named_entity_recognition(article)\n",
        "print(spacy_entities)\n"
      ],
      "metadata": {
        "colab": {
          "base_uri": "https://localhost:8080/"
        },
        "id": "BAuALcGClOgm",
        "outputId": "75f48c41-2353-4ffb-ef56-99bd07283132"
      },
      "execution_count": null,
      "outputs": [
        {
          "output_type": "stream",
          "name": "stdout",
          "text": [
            "[('Trump', 'ORG'), ('Putin', 'PERSON'), ('Evan Gershkovich', 'PERSON'), ('The Washington Post', 'ORG')]\n"
          ]
        }
      ]
    },
    {
      "cell_type": "code",
      "source": [
        "\n",
        "def compare_entities(nltk_entities, spacy_entities):\n",
        "    nltk_set = set(nltk_entities)\n",
        "    spacy_set = set(spacy_entities)\n",
        "\n",
        "    common_entities = nltk_set.intersection(spacy_set)\n",
        "    unique_nltk_entities = nltk_set - spacy_set\n",
        "    unique_spacy_entities = spacy_set - nltk_set\n",
        "\n",
        "    return {\n",
        "        \"common_entities\": common_entities,\n",
        "        \"unique_nltk_entities\": unique_nltk_entities,\n",
        "        \"unique_spacy_entities\": unique_spacy_entities\n",
        "    }\n",
        "\n",
        "comparison = compare_entities(nltk_entities, spacy_entities)\n",
        "print(\"Common Entities:\", comparison[\"common_entities\"])\n",
        "print(\"Unique NLTK Entities:\", comparison[\"unique_nltk_entities\"])\n",
        "print(\"Unique SpaCy Entities:\", comparison[\"unique_spacy_entities\"])\n"
      ],
      "metadata": {
        "colab": {
          "base_uri": "https://localhost:8080/"
        },
        "id": "krwSe2t3lSdV",
        "outputId": "5455e999-05a4-4492-9cef-ca0eeba78ec5"
      },
      "execution_count": null,
      "outputs": [
        {
          "output_type": "stream",
          "name": "stdout",
          "text": [
            "Common Entities: {('Evan Gershkovich', 'PERSON'), ('Putin', 'PERSON')}\n",
            "Unique NLTK Entities: {('Washington Post', 'ORGANIZATION'), ('Trump', 'GPE')}\n",
            "Unique SpaCy Entities: {('Trump', 'ORG'), ('The Washington Post', 'ORG')}\n"
          ]
        }
      ]
    },
    {
      "cell_type": "code",
      "source": [
        "\n",
        "def summarize_results(article, comparison):\n",
        "    summary = f\"\"\"\n",
        "    News Article: {article}\n",
        "\n",
        "    Comparison of Named Entity Recognition:\n",
        "\n",
        "    Common Entities:\n",
        "    {comparison['common_entities']}\n",
        "\n",
        "    Unique Entities (NLTK):\n",
        "    {comparison['unique_nltk_entities']}\n",
        "\n",
        "    Unique Entities (SpaCy):\n",
        "    {comparison['unique_spacy_entities']}\n",
        "\n",
        "    Observations:\n",
        "    - SpaCy, being a machine learning-based approach, tends to identify entities more accurately and can recognize a wider range of entity types.\n",
        "    - NLTK, being a rule-based approach, might miss some entities or classify them incorrectly, especially in complex or ambiguous cases.\n",
        "    - SpaCy can be more robust in recognizing entities in different contexts, while NLTK may require more fine-tuning for different types of texts.\n",
        "\n",
        "    Conclusions:\n",
        "    - The choice between SpaCy and NLTK for named entity recognition depends on the specific requirements of the task. For general purposes and higher accuracy, SpaCy is recommended. For simple tasks or when rule-based precision is needed, NLTK can be used.\n",
        "    \"\"\"\n",
        "    return summary\n",
        "\n",
        "summary = summarize_results(article, comparison)\n",
        "print(summary)"
      ],
      "metadata": {
        "colab": {
          "base_uri": "https://localhost:8080/"
        },
        "id": "9CPKGuzOlW55",
        "outputId": "7d90c685-4bff-481d-84e0-e5be2d6a5ba1"
      },
      "execution_count": null,
      "outputs": [
        {
          "output_type": "stream",
          "name": "stdout",
          "text": [
            "\n",
            "    News Article: Trump congratulates Putin over deal that brought Evan Gershkovich home - The Washington Post \n",
            "\n",
            "    Comparison of Named Entity Recognition:\n",
            "\n",
            "    Common Entities:\n",
            "    {('Evan Gershkovich', 'PERSON'), ('Putin', 'PERSON')}\n",
            "\n",
            "    Unique Entities (NLTK):\n",
            "    {('Washington Post', 'ORGANIZATION'), ('Trump', 'GPE')}\n",
            "\n",
            "    Unique Entities (SpaCy):\n",
            "    {('Trump', 'ORG'), ('The Washington Post', 'ORG')}\n",
            "\n",
            "    Observations:\n",
            "    - SpaCy, being a machine learning-based approach, tends to identify entities more accurately and can recognize a wider range of entity types.\n",
            "    - NLTK, being a rule-based approach, might miss some entities or classify them incorrectly, especially in complex or ambiguous cases.\n",
            "    - SpaCy can be more robust in recognizing entities in different contexts, while NLTK may require more fine-tuning for different types of texts.\n",
            "\n",
            "    Conclusions:\n",
            "    - The choice between SpaCy and NLTK for named entity recognition depends on the specific requirements of the task. For general purposes and higher accuracy, SpaCy is recommended. For simple tasks or when rule-based precision is needed, NLTK can be used.\n",
            "    \n"
          ]
        }
      ]
    }
  ]
}